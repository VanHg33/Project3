{
 "cells": [
  {
   "cell_type": "code",
   "execution_count": 1,
   "metadata": {},
   "outputs": [],
   "source": [
    "# Dependencies\n",
    "from config import API_KEY\n",
    "import pandas as pd\n",
    "import requests\n",
    "import json\n",
    "import sqlalchemy\n",
    "from sqlalchemy.ext.automap import automap_base\n",
    "from sqlalchemy.orm import Session\n",
    "from sqlalchemy import create_engine, func"
   ]
  },
  {
   "cell_type": "markdown",
   "metadata": {},
   "source": [
    "# Get APIs data from JSearch for Data Analyst from every major cities from Australia\n",
    "## Export as JSON data files"
   ]
  },
  {
   "cell_type": "code",
   "execution_count": 2,
   "metadata": {},
   "outputs": [],
   "source": [
    "# Adelaide \n",
    "\n",
    "# Save url as variable\n",
    "url = \"https://jsearch.p.rapidapi.com/search\"\n",
    "# Set querystring\n",
    "querystring = {\"query\":\"Data Analyst in Adelaide, Australia\",\"page\":\"1\",\"num_pages\":\"20\"}\n",
    "# Set headers\n",
    "headers = {\n",
    "\t\"X-RapidAPI-Key\": API_KEY,\n",
    "\t\"X-RapidAPI-Host\": \"jsearch.p.rapidapi.com\"\n",
    "}\n",
    "# Make a GET request and save in variable\n",
    "response = requests.get(url, headers=headers, params=querystring)\n",
    "Ade_jsearch= response.json()\n",
    "\n",
    "# Write data to a json file \n",
    "with open('../Resources/Adelaide_data_jsearch.json', 'w') as outfile:\n",
    "\tjson.dump(Ade_jsearch, outfile, indent=4)\n"
   ]
  },
  {
   "cell_type": "code",
   "execution_count": 3,
   "metadata": {},
   "outputs": [],
   "source": [
    "# Brisbane\n",
    "\n",
    "url = \"https://jsearch.p.rapidapi.com/search\"\n",
    "\n",
    "querystring = {\"query\":\"Data Analyst in Brisbane, Australia\",\"page\":\"1\",\"num_pages\":\"20\"}\n",
    "\n",
    "headers = {\n",
    "\t\"X-RapidAPI-Key\": API_KEY,\n",
    "\t\"X-RapidAPI-Host\": \"jsearch.p.rapidapi.com\"\n",
    "}\n",
    "\n",
    "response = requests.get(url, headers=headers, params=querystring)\n",
    "Bris_jsearch = response.json()\n",
    "\n",
    "# Write data to a json file \n",
    "with open('../Resources/Brisbane_data_jsearch.json', 'w') as outfile:\n",
    "\tjson.dump(Bris_jsearch, outfile, indent=4)"
   ]
  },
  {
   "cell_type": "code",
   "execution_count": 4,
   "metadata": {},
   "outputs": [],
   "source": [
    "# Canberra\n",
    "\n",
    "url = \"https://jsearch.p.rapidapi.com/search\"\n",
    "\n",
    "querystring = {\"query\":\"Data Analyst in Canberra, Australia\",\"page\":\"1\",\"num_pages\":\"20\"}\n",
    "\n",
    "headers = {\n",
    "\t\"X-RapidAPI-Key\": API_KEY,\n",
    "\t\"X-RapidAPI-Host\": \"jsearch.p.rapidapi.com\"\n",
    "}\n",
    "\n",
    "response = requests.get(url, headers=headers, params=querystring)\n",
    "Canb_jsearch= response.json()\n",
    "\n",
    "# Write data to a json file \n",
    "with open('../Resources/Canberra_data_jsearch.json', 'w') as outfile:\n",
    "\tjson.dump(Canb_jsearch, outfile, indent=4)"
   ]
  },
  {
   "cell_type": "code",
   "execution_count": 5,
   "metadata": {},
   "outputs": [],
   "source": [
    "# Darwin\n",
    "url = \"https://jsearch.p.rapidapi.com/search\"\n",
    "\n",
    "querystring = {\"query\":\"Data Analyst in Darwin, Australia\",\"page\":\"1\",\"num_pages\":\"20\"}\n",
    "\n",
    "headers = {\n",
    "\t\"X-RapidAPI-Key\": API_KEY,\n",
    "\t\"X-RapidAPI-Host\": \"jsearch.p.rapidapi.com\"\n",
    "}\n",
    "\n",
    "response = requests.get(url, headers=headers, params=querystring)\n",
    "Darw_jsearch = response.json()\n",
    "\n",
    "# Write data to a json file \n",
    "with open('../Resources/Darwin_data_jsearch.json', 'w') as outfile:\n",
    "\tjson.dump(Darw_jsearch, outfile, indent=4)"
   ]
  },
  {
   "cell_type": "code",
   "execution_count": 6,
   "metadata": {},
   "outputs": [],
   "source": [
    "# Hobart\n",
    "url = \"https://jsearch.p.rapidapi.com/search\"\n",
    "\n",
    "querystring = {\"query\":\"Data Analyst in Hobart, Australia\",\"page\":\"1\",\"num_pages\":\"20\"}\n",
    "\n",
    "headers = {\n",
    "\t\"X-RapidAPI-Key\": API_KEY,\n",
    "\t\"X-RapidAPI-Host\": \"jsearch.p.rapidapi.com\"\n",
    "}\n",
    "\n",
    "response = requests.get(url, headers=headers, params=querystring)\n",
    "Hob_jsearch= response.json()\n",
    "\n",
    "# Write data to a json file \n",
    "with open('../Resources/Hobart_data_jsearch.json', 'w') as outfile:\n",
    "\tjson.dump(Hob_jsearch, outfile, indent=4)"
   ]
  },
  {
   "cell_type": "code",
   "execution_count": 7,
   "metadata": {},
   "outputs": [],
   "source": [
    "# Melbourne\n",
    "url = \"https://jsearch.p.rapidapi.com/search\"\n",
    "\n",
    "querystring = {\"query\":\"Data Analyst in Melbourne, Australia\",\"page\":\"1\",\"num_pages\":\"20\"}\n",
    "\n",
    "headers = {\n",
    "\t\"X-RapidAPI-Key\": API_KEY,\n",
    "\t\"X-RapidAPI-Host\": \"jsearch.p.rapidapi.com\"\n",
    "}\n",
    "\n",
    "response = requests.get(url, headers=headers, params=querystring)\n",
    "Melb_jsearch=response.json()\n",
    "\n",
    "# Write data to a json file \n",
    "with open('../Resources/Melbourne_data_jsearch.json', 'w') as outfile:\n",
    "\tjson.dump(Melb_jsearch, outfile, indent=4)"
   ]
  },
  {
   "cell_type": "code",
   "execution_count": 8,
   "metadata": {},
   "outputs": [],
   "source": [
    "# Perth\n",
    "url = \"https://jsearch.p.rapidapi.com/search\"\n",
    "\n",
    "querystring = {\"query\":\"Data Analyst in Perth, Australia\",\"page\":\"1\",\"num_pages\":\"20\"}\n",
    "\n",
    "headers = {\n",
    "\t\"X-RapidAPI-Key\": API_KEY,\n",
    "\t\"X-RapidAPI-Host\": \"jsearch.p.rapidapi.com\"\n",
    "}\n",
    "\n",
    "response = requests.get(url, headers=headers, params=querystring)\n",
    "Perth_jsearch=response.json()\n",
    "\n",
    "# Write data to a json file \n",
    "with open('../Resources/Perth_data_jsearch.json', 'w') as outfile:\n",
    "\tjson.dump(Perth_jsearch, outfile, indent=4)"
   ]
  },
  {
   "cell_type": "code",
   "execution_count": 9,
   "metadata": {},
   "outputs": [],
   "source": [
    "# Sydney\n",
    "url = \"https://jsearch.p.rapidapi.com/search\"\n",
    "\n",
    "querystring = {\"query\":\"Data Analyst in Sydney, Australia\",\"page\":\"1\",\"num_pages\":\"20\"}\n",
    "\n",
    "headers = {\n",
    "\t\"X-RapidAPI-Key\": API_KEY,\n",
    "\t\"X-RapidAPI-Host\": \"jsearch.p.rapidapi.com\"\n",
    "}\n",
    "\n",
    "response = requests.get(url, headers=headers, params=querystring)\n",
    "Syd_jsearch = response.json()\n",
    "\n",
    "# Write data to a json file \n",
    "with open('../Resources/Sydney_data_jsearch.json', 'w') as outfile:\n",
    "\tjson.dump(Syd_jsearch, outfile, indent=4)"
   ]
  },
  {
   "cell_type": "markdown",
   "metadata": {},
   "source": [
    "## Create clean data frame"
   ]
  },
  {
   "cell_type": "code",
   "execution_count": null,
   "metadata": {},
   "outputs": [],
   "source": [
    "# columns = [\"employer_name\",\"job_publisher\",\"job_id\",\"job_employment_type\",\"job_title\",\"job_apply_link\",\\\n",
    "#     \"job_description\",\"job_posted_at_timestamp\",\"job_posted_at_datetime_utc\",\"job_city\",\"job_state\",\\\n",
    "#     \"job_country\",\"job_latitude\",\"job_longitude\",\"job_offer_expiration_datetime_utc\",\"job_offer_expiration_timestamp\",\\\n",
    "#     \"job_required_experience\",\"job_required_skills\",\"job_required_education\"]"
   ]
  },
  {
   "cell_type": "code",
   "execution_count": null,
   "metadata": {},
   "outputs": [],
   "source": [
    "# columns = [\"employer_name\",\"job_publisher\",\"job_id\",\"job_employment_type\",\"job_title\",\"job_apply_link\",\\\n",
    "#     \"job_description\",\"job_city\",\"job_state\",\"job_latitude\",\"job_longitude\",\n",
    "#     \"job_required_experience\",\"job_required_skills\",\"job_required_education\"]"
   ]
  },
  {
   "cell_type": "code",
   "execution_count": null,
   "metadata": {},
   "outputs": [],
   "source": [
    "# Select certain columns to be used and turn json file into a Pandas dataframe \n",
    "columns = [\"employer_name\",\"job_publisher\",\"job_id\",\"job_employment_type\",\"job_title\",\"job_apply_link\",\\\n",
    "    \"job_description\",\"job_city\",\"job_state\",\"job_latitude\",\"job_longitude\",\n",
    "    \"job_required_experience\",\"job_required_skills\",\"job_required_education\"]\n",
    "\n",
    "# Adelaide\n",
    "raw_Ade_df = pd.json_normalize(Ade_jsearch, 'data')\n",
    "Ade_df = raw_Ade_df.loc[:, columns]\n",
    "Ade_df"
   ]
  },
  {
   "cell_type": "code",
   "execution_count": null,
   "metadata": {},
   "outputs": [],
   "source": [
    "# Brisbane\n",
    "raw_Bris_df= pd.json_normalize(Bris_jsearch, 'data')\n",
    "Bris_df = raw_Bris_df.loc[:, columns]\n",
    "Bris_df"
   ]
  },
  {
   "cell_type": "code",
   "execution_count": null,
   "metadata": {},
   "outputs": [],
   "source": [
    "# Canberra\n",
    "raw_Canb_df=pd.json_normalize(Canb_jsearch, 'data')\n",
    "Canb_df=raw_Canb_df.loc[:, columns]\n",
    "Canb_df"
   ]
  },
  {
   "cell_type": "code",
   "execution_count": null,
   "metadata": {},
   "outputs": [],
   "source": [
    "# Darwin\n",
    "raw_Darw_df=pd.json_normalize(Darw_jsearch, 'data')\n",
    "Darw_df= raw_Darw_df.loc[:, columns]\n",
    "Darw_df"
   ]
  },
  {
   "cell_type": "code",
   "execution_count": null,
   "metadata": {},
   "outputs": [],
   "source": [
    "# Hobart\n",
    "raw_Hob_df=pd.json_normalize(Hob_jsearch, 'data')\n",
    "Hob_df=raw_Hob_df.loc[:, columns]\n",
    "Hob_df"
   ]
  },
  {
   "cell_type": "code",
   "execution_count": null,
   "metadata": {},
   "outputs": [],
   "source": [
    "# Melbourne\n",
    "raw_Melb_df=pd.json_normalize(Melb_jsearch, 'data')\n",
    "Melb_df =raw_Melb_df.loc[:, columns]\n",
    "Melb_df"
   ]
  },
  {
   "cell_type": "code",
   "execution_count": null,
   "metadata": {},
   "outputs": [],
   "source": [
    "# Perth \n",
    "raw_Perth_df=pd.json_normalize(Perth_jsearch, 'data')\n",
    "Perth_df=raw_Perth_df.loc[:, columns]\n",
    "Perth_df"
   ]
  },
  {
   "cell_type": "code",
   "execution_count": null,
   "metadata": {},
   "outputs": [],
   "source": [
    "# Sydney\n",
    "raw_Syd_df= pd.json_normalize(Syd_jsearch, 'data')\n",
    "Syd_df = raw_Syd_df.loc[:, columns]\n",
    "Syd_df"
   ]
  },
  {
   "cell_type": "markdown",
   "metadata": {},
   "source": [
    "### Merge 8 cities"
   ]
  },
  {
   "cell_type": "code",
   "execution_count": null,
   "metadata": {},
   "outputs": [],
   "source": [
    "# Add all the cities dataframes together and format column names\n",
    "merge_df = pd.concat([Ade_df,Bris_df,Canb_df,Darw_df,Hob_df,Melb_df,Perth_df,Syd_df], axis =0)\n",
    "merge_df.columns = merge_df.columns.str.replace(\"_\", \" \").str.capitalize()\n",
    "merge_df"
   ]
  }
 ],
 "metadata": {
  "kernelspec": {
   "display_name": "Python 3 (ipykernel)",
   "language": "python",
   "name": "python3"
  },
  "language_info": {
   "codemirror_mode": {
    "name": "ipython",
    "version": 3
   },
   "file_extension": ".py",
   "mimetype": "text/x-python",
   "name": "python",
   "nbconvert_exporter": "python",
   "pygments_lexer": "ipython3",
   "version": "3.10.11"
  },
  "vscode": {
   "interpreter": {
    "hash": "31f2aee4e71d21fbe5cf8b01ff0e069b9275f58929596ceb00d14d90e3e16cd6"
   }
  }
 },
 "nbformat": 4,
 "nbformat_minor": 4
}
